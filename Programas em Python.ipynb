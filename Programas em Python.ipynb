{
 "cells": [
  {
   "cell_type": "markdown",
   "metadata": {},
   "source": [
    "# Programas em Python\n",
    "### Curso Data Science de A-Z - Udemy"
   ]
  },
  {
   "cell_type": "code",
   "execution_count": 3,
   "metadata": {},
   "outputs": [
    {
     "name": "stdout",
     "output_type": "stream",
     "text": [
      "3345.878\n"
     ]
    }
   ],
   "source": [
    "# Selecionar o primeiro valor na lista dada, sem a decimal\n",
    "\n",
    "expr = '''Dados de acesso do cliente Universidade dos Dados\n",
    "01/02/2017 \"3345.878.00\" \n",
    "02/02/2017 \"6.088.00\" \n",
    "03/02/2017 \"645.00\" \n",
    "04/02/2017 \"10.876.00\"'''\n",
    "\n",
    "# solucao em diversas linhas\n",
    "# o valor é dado entre o qualificador \" \"\n",
    "\n",
    "inicio=expr.find('\"')+1       # conto a proxima célula depois das aspas duplas\n",
    "fim=expr.find('\"',inicio)-3   # excluo o .00\n",
    "\n",
    "print(expr[inicio:fim])\n"
   ]
  },
  {
   "cell_type": "code",
   "execution_count": 4,
   "metadata": {},
   "outputs": [
    {
     "name": "stdout",
     "output_type": "stream",
     "text": [
      "3345.878\n"
     ]
    }
   ],
   "source": [
    "# Selecionar o primeiro valor na lista dada, sem a decimal\n",
    "\n",
    "expr = '''Dados de acesso do cliente Universidade dos Dados\n",
    "01/02/2017 \"3345.878.00\" \n",
    "02/02/2017 \"6.088.00\" \n",
    "03/02/2017 \"645.00\" \n",
    "04/02/2017 \"10.876.00\"'''\n",
    "\n",
    "# solucao em uma unica linha\n",
    "# o valor é dado entre o qualificador \" \"\n",
    "\n",
    "print(expr[expr.find('\"')+1:expr.find('\"',inicio)-3])\n"
   ]
  },
  {
   "cell_type": "code",
   "execution_count": null,
   "metadata": {},
   "outputs": [],
   "source": [
    "# Classifique um número em par ou ímpar\n",
    "\n",
    "def par_ou_impar(N):\n",
    "    if N%2 ==0:\n",
    "        return(\"é par\")\n",
    "    else:\n",
    "        return(\"é impar\")\n",
    "\n",
    "# testo com um número\n",
    "print(par_ou_impar(2))"
   ]
  },
  {
   "cell_type": "code",
   "execution_count": 2,
   "metadata": {},
   "outputs": [
    {
     "name": "stdout",
     "output_type": "stream",
     "text": [
      "20.4\n"
     ]
    }
   ],
   "source": [
    "# dados 3 números, imprimir o maior deles\n",
    "\n",
    "# função que dá o maior de 2 números\n",
    "def maior(a,b):\n",
    "    if a>b:\n",
    "        return a\n",
    "    else:\n",
    "        return b\n",
    "\n",
    "# escolho o maior entre a e b, e em seguida, desses com c\n",
    "def maiorDeTres(a,b,c):\n",
    "    return(maior(maior(a,b),c))\n",
    "\n",
    "# chamo a função para 3 valores\n",
    "print(maiorDeTres(17,20.4,3))"
   ]
  },
  {
   "cell_type": "code",
   "execution_count": 5,
   "metadata": {},
   "outputs": [
    {
     "name": "stdout",
     "output_type": "stream",
     "text": [
      "[999, 33, 11, 8, 8, 2, 2, 1]\n"
     ]
    }
   ],
   "source": [
    "# dada uma lista, ordenar de forma decrescente\n",
    "\n",
    "lista=[1,2,8,33,2,8,11,999]\n",
    "aux=lista.sort()\n",
    "aux=lista.reverse()\n",
    "print(lista)"
   ]
  }
 ],
 "metadata": {
  "kernelspec": {
   "display_name": "Python 3",
   "language": "python",
   "name": "python3"
  },
  "language_info": {
   "codemirror_mode": {
    "name": "ipython",
    "version": 3
   },
   "file_extension": ".py",
   "mimetype": "text/x-python",
   "name": "python",
   "nbconvert_exporter": "python",
   "pygments_lexer": "ipython3",
   "version": "3.6.4"
  }
 },
 "nbformat": 4,
 "nbformat_minor": 2
}
