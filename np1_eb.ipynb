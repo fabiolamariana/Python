{
  "nbformat": 4,
  "nbformat_minor": 0,
  "metadata": {
    "colab": {
      "name": "np1_cf.ipynb",
      "version": "0.3.2",
      "provenance": [],
      "include_colab_link": true
    },
    "kernelspec": {
      "display_name": "Python 3",
      "language": "python",
      "name": "python3"
    }
  },
  "cells": [
    {
      "cell_type": "markdown",
      "metadata": {
        "id": "view-in-github",
        "colab_type": "text"
      },
      "source": [
        "<a href=\"https://colab.research.google.com/github/fabiolamariana/Python/blob/master/np1_eb.ipynb\" target=\"_parent\"><img src=\"https://colab.research.google.com/assets/colab-badge.svg\" alt=\"Open In Colab\"/></a>"
      ]
    },
    {
      "metadata": {
        "id": "ef9s6kW2RPaB",
        "colab_type": "text"
      },
      "cell_type": "markdown",
      "source": [
        "# Análise das notas da P1 de EB - 2019/1\n",
        "\n",
        "####  profa. Dra. Fabíola Ribeiro"
      ]
    },
    {
      "metadata": {
        "id": "KOa8IWz5RPaH",
        "colab_type": "text"
      },
      "cell_type": "markdown",
      "source": [
        "Nesse relatório analisamos a distribuição das notas de alunos do ciclo básico de Engenharia na disciplina Eletricidade Básica (EB). A nota final da prova é composta de 0 a 2 pontos de atividade e 0 a 8 pontos da prova em si. Na prova foram abordados os seguintes conteúdos: Lei de Ohm, força elétrica e campo elétrico."
      ]
    },
    {
      "metadata": {
        "id": "-0uVUbEhRPaL",
        "colab_type": "code",
        "colab": {}
      },
      "cell_type": "code",
      "source": [
        "import numpy as np\n",
        "import pandas as pd\n",
        "import matplotlib as plt"
      ],
      "execution_count": 0,
      "outputs": []
    },
    {
      "metadata": {
        "id": "EIFF8hMnRPaV",
        "colab_type": "code",
        "colab": {}
      },
      "cell_type": "code",
      "source": [
        "file=\"https://raw.githubusercontent.com/fabiolamariana/Python/master/EB_notas_P1_.csv\"\n",
        "np1 = pd.read_csv(file, delimiter=',')"
      ],
      "execution_count": 0,
      "outputs": []
    },
    {
      "metadata": {
        "id": "dexzC08TRPad",
        "colab_type": "code",
        "colab": {}
      },
      "cell_type": "code",
      "source": [
        "#np1.head()"
      ],
      "execution_count": 0,
      "outputs": []
    },
    {
      "metadata": {
        "id": "eiRgDFPLRPal",
        "colab_type": "text"
      },
      "cell_type": "markdown",
      "source": [
        "## Presença na prova"
      ]
    },
    {
      "metadata": {
        "id": "aqYSQWGSRPan",
        "colab_type": "code",
        "outputId": "eb1bdcb0-ea9e-400b-8dce-74f90caae6a1",
        "colab": {
          "base_uri": "https://localhost:8080/",
          "height": 72
        }
      },
      "cell_type": "code",
      "source": [
        "# quantidade de alunos que compareceram\n",
        "a=np1.NP1.str.contains('').sum()   #total de alunos na lista\n",
        "b=np1.NP1.str.contains('NC').sum() #total de alunos que não compareceram\n",
        "print(\"alunos presentes:\", a-b)\n",
        "print(\"alunos ausentes:\", b)\n",
        "print(\"presença:\", round((a-b)/(a)*100,1), \"%\")"
      ],
      "execution_count": 19,
      "outputs": [
        {
          "output_type": "stream",
          "text": [
            "alunos presentes: 74\n",
            "alunos ausentes: 12\n",
            "presença: 86.0 %\n"
          ],
          "name": "stdout"
        }
      ]
    },
    {
      "metadata": {
        "id": "U_bx2rgLRPaz",
        "colab_type": "code",
        "colab": {}
      },
      "cell_type": "code",
      "source": [
        "# limpando os NC\n",
        "np1['NP1']=np1.NP1.str.replace('NC','NaN').astype(float)\n",
        "np1_c = np1.dropna(subset=['NP1'], how='any')\n",
        "#np1_c contém as notas sem NC"
      ],
      "execution_count": 0,
      "outputs": []
    },
    {
      "metadata": {
        "id": "s3CPLwnARPbD",
        "colab_type": "text"
      },
      "cell_type": "markdown",
      "source": [
        "## Média e desvio padrão geral"
      ]
    },
    {
      "metadata": {
        "id": "L0mu5rnZRPbI",
        "colab_type": "code",
        "outputId": "f4a82a81-1929-4592-af8f-265fafd9947f",
        "colab": {
          "base_uri": "https://localhost:8080/",
          "height": 72
        }
      },
      "cell_type": "code",
      "source": [
        "#calculando médias\n",
        "media=np1_c.NP1.mean()\n",
        "desvpad=np1_c.NP1.std()\n",
        "desvpad_av=desvpad/(a-b)**(1./2)\n",
        "print('média geral:', round(media,2))\n",
        "print('desvio padrão:', round(desvpad,2))\n",
        "print('desvio padrão da média:', round(desvpad_av,2))\n"
      ],
      "execution_count": 21,
      "outputs": [
        {
          "output_type": "stream",
          "text": [
            "média geral: 5.7\n",
            "desvio padrão: 2.36\n",
            "desvio padrão da média: 0.27\n"
          ],
          "name": "stdout"
        }
      ]
    },
    {
      "metadata": {
        "id": "DphEaC-NRPbY",
        "colab_type": "text"
      },
      "cell_type": "markdown",
      "source": [
        "## Média e desvio padrão por turma"
      ]
    },
    {
      "metadata": {
        "id": "01kuMunYRPbZ",
        "colab_type": "code",
        "outputId": "edae8c81-50da-43fb-db3f-b1ffa2c9bedb",
        "colab": {
          "base_uri": "https://localhost:8080/",
          "height": 109
        }
      },
      "cell_type": "code",
      "source": [
        "# médias por turma\n",
        "np1_c.groupby(\"Turma\").NP1.mean()"
      ],
      "execution_count": 22,
      "outputs": [
        {
          "output_type": "execute_result",
          "data": {
            "text/plain": [
              "Turma\n",
              "EB2P01    4.886364\n",
              "EB3P01    6.181818\n",
              "EB3Q01    5.933333\n",
              "Name: NP1, dtype: float64"
            ]
          },
          "metadata": {
            "tags": []
          },
          "execution_count": 22
        }
      ]
    },
    {
      "metadata": {
        "id": "C0B8c-D5RPbg",
        "colab_type": "code",
        "outputId": "614afd11-0418-4dd3-c6df-eb32c7c299bd",
        "colab": {
          "base_uri": "https://localhost:8080/",
          "height": 109
        }
      },
      "cell_type": "code",
      "source": [
        "#desvio padrão por turma\n",
        "np1_c.groupby(\"Turma\").NP1.std()"
      ],
      "execution_count": 23,
      "outputs": [
        {
          "output_type": "execute_result",
          "data": {
            "text/plain": [
              "Turma\n",
              "EB2P01    1.573076\n",
              "EB3P01    2.461830\n",
              "EB3Q01    2.654642\n",
              "Name: NP1, dtype: float64"
            ]
          },
          "metadata": {
            "tags": []
          },
          "execution_count": 23
        }
      ]
    },
    {
      "metadata": {
        "id": "3okQ24ZNRPbq",
        "colab_type": "code",
        "outputId": "90e955d2-205b-4536-a748-49c60d4fe477",
        "colab": {
          "base_uri": "https://localhost:8080/",
          "height": 380
        }
      },
      "cell_type": "code",
      "source": [
        "#gráfico média por turma com desvio padrão\n",
        "np1_c.groupby('Turma').mean().plot(kind='barh', xlim=(0,10), title=\"média por turma com desvio padrão\", xerr=np1_c.groupby(\"Turma\").NP1.std())"
      ],
      "execution_count": 24,
      "outputs": [
        {
          "output_type": "execute_result",
          "data": {
            "text/plain": [
              "<matplotlib.axes._subplots.AxesSubplot at 0x7f0046c73080>"
            ]
          },
          "metadata": {
            "tags": []
          },
          "execution_count": 24
        },
        {
          "output_type": "display_data",
          "data": {
            "image/png": "[encoded data removed]",
            "text/plain": [
              "<Figure size 576x396 with 1 Axes>"
            ]
          },
          "metadata": {
            "tags": []
          }
        }
      ]
    },
    {
      "metadata": {
        "id": "37yTmkjERPbw",
        "colab_type": "text"
      },
      "cell_type": "markdown",
      "source": [
        "## Distribuição de notas\n",
        "\n",
        "Nos gráficos a seguir são apresentados histogramas com a distribuição das notas. O primeiro histograma contém todas as notas, os seguintes são divididos por turma."
      ]
    },
    {
      "metadata": {
        "id": "JZJwWR5ZRPbz",
        "colab_type": "code",
        "outputId": "767fdadf-3cb6-49b3-e8ce-7f54147694db",
        "colab": {
          "base_uri": "https://localhost:8080/",
          "height": 380
        }
      },
      "cell_type": "code",
      "source": [
        "#histograma\n",
        "\n",
        "np1_c['NP1'].plot(kind='hist', title=\"Geral\", xlim=(0,10), bins=[0,1,2,3,4,5,6,7,8,9,10], density=1)\n"
      ],
      "execution_count": 25,
      "outputs": [
        {
          "output_type": "execute_result",
          "data": {
            "text/plain": [
              "<matplotlib.axes._subplots.AxesSubplot at 0x7f0046b8ecf8>"
            ]
          },
          "metadata": {
            "tags": []
          },
          "execution_count": 25
        },
        {
          "output_type": "display_data",
          "data": {
            "image/png": "[encoded data removed]",
            "text/plain": [
              "<Figure size 576x396 with 1 Axes>"
            ]
          },
          "metadata": {
            "tags": []
          }
        }
      ]
    },
    {
      "metadata": {
        "id": "6fYXUuMGRPb9",
        "colab_type": "code",
        "outputId": "1ac3c683-9692-4a2a-8ec0-99b9afe338ef",
        "colab": {
          "base_uri": "https://localhost:8080/",
          "height": 380
        }
      },
      "cell_type": "code",
      "source": [
        "np1_c[np1_c.Turma==\"EB3P01\"]['NP1'].plot(kind='hist', title=\"3P\",xlim=(0,10), bins=[0,1,2,3,4,5,6,7,8,9,10], density=1)"
      ],
      "execution_count": 26,
      "outputs": [
        {
          "output_type": "execute_result",
          "data": {
            "text/plain": [
              "<matplotlib.axes._subplots.AxesSubplot at 0x7f0046b651d0>"
            ]
          },
          "metadata": {
            "tags": []
          },
          "execution_count": 26
        },
        {
          "output_type": "display_data",
          "data": {
            "image/png": "[encoded data removed]",
            "text/plain": [
              "<Figure size 576x396 with 1 Axes>"
            ]
          },
          "metadata": {
            "tags": []
          }
        }
      ]
    },
    {
      "metadata": {
        "id": "LoOayFyMRPcJ",
        "colab_type": "code",
        "outputId": "37883225-95c3-406a-8608-c34c92743860",
        "colab": {
          "base_uri": "https://localhost:8080/",
          "height": 380
        }
      },
      "cell_type": "code",
      "source": [
        "np1_c[np1_c.Turma==\"EB3Q01\"]['NP1'].plot(kind='hist', title=\"3Q\",xlim=(0,10),bins=[0,1,2,3,4,5,6,7,8,9,10], density=1)"
      ],
      "execution_count": 27,
      "outputs": [
        {
          "output_type": "execute_result",
          "data": {
            "text/plain": [
              "<matplotlib.axes._subplots.AxesSubplot at 0x7f0046c2d358>"
            ]
          },
          "metadata": {
            "tags": []
          },
          "execution_count": 27
        },
        {
          "output_type": "display_data",
          "data": {
            "image/png": "[encoded data removed]",
            "text/plain": [
              "<Figure size 576x396 with 1 Axes>"
            ]
          },
          "metadata": {
            "tags": []
          }
        }
      ]
    },
    {
      "metadata": {
        "id": "xBoM7IFzRPcV",
        "colab_type": "code",
        "outputId": "d0fb7187-6a03-420a-b2d4-a01670628d88",
        "colab": {
          "base_uri": "https://localhost:8080/",
          "height": 380
        }
      },
      "cell_type": "code",
      "source": [
        "np1_c[np1_c.Turma==\"EB2P01\"]['NP1'].plot(kind='hist', title=\"2P\",xlim=(0,10),bins=[0,1,2,3,4,5,6,7,8,9,10], density=1)"
      ],
      "execution_count": 28,
      "outputs": [
        {
          "output_type": "execute_result",
          "data": {
            "text/plain": [
              "<matplotlib.axes._subplots.AxesSubplot at 0x7f0046a4e048>"
            ]
          },
          "metadata": {
            "tags": []
          },
          "execution_count": 28
        },
        {
          "output_type": "display_data",
          "data": {
            "image/png": "[encoded data removed]",
            "text/plain": [
              "<Figure size 576x396 with 1 Axes>"
            ]
          },
          "metadata": {
            "tags": []
          }
        }
      ]
    },
    {
      "metadata": {
        "id": "oDFstnSgRPc6",
        "colab_type": "code",
        "outputId": "8534142c-9316-477e-c7f0-3cc757948417",
        "colab": {
          "base_uri": "https://localhost:8080/",
          "height": 587
        }
      },
      "cell_type": "code",
      "source": [
        "np1_c.hist(column='NP1', by=\"Turma\", figsize=(10,8), bins=[0,1,2,3,4,5,6,7,8,9,10], xrot=1, density=1)"
      ],
      "execution_count": 29,
      "outputs": [
        {
          "output_type": "execute_result",
          "data": {
            "text/plain": [
              "array([[<matplotlib.axes._subplots.AxesSubplot object at 0x7f00469b5e80>,\n",
              "        <matplotlib.axes._subplots.AxesSubplot object at 0x7f0046977128>],\n",
              "       [<matplotlib.axes._subplots.AxesSubplot object at 0x7f004699ba58>,\n",
              "        <matplotlib.axes._subplots.AxesSubplot object at 0x7f0046949400>]],\n",
              "      dtype=object)"
            ]
          },
          "metadata": {
            "tags": []
          },
          "execution_count": 29
        },
        {
          "output_type": "display_data",
          "data": {
            "image/png": "[encoded data removed]",
            "text/plain": [
              "<Figure size 720x576 with 4 Axes>"
            ]
          },
          "metadata": {
            "tags": []
          }
        }
      ]
    }
  ]
}