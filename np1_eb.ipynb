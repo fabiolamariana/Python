{
  "nbformat": 4,
  "nbformat_minor": 0,
  "metadata": {
    "colab": {
      "name": "np1_cf.ipynb",
      "version": "0.3.2",
      "provenance": []
    },
    "kernelspec": {
      "display_name": "Python 3",
      "language": "python",
      "name": "python3"
    }
  },
  "cells": [
    {
      "metadata": {
        "id": "ef9s6kW2RPaB",
        "colab_type": "text"
      },
      "cell_type": "markdown",
      "source": [
        "  Análise das notas da P1 de EB - 2019/1\n",
        "\n",
        "  profa. Dra. Fabíola Ribeiro"
      ]
    },
    {
      "metadata": {
        "id": "KOa8IWz5RPaH",
        "colab_type": "text"
      },
      "cell_type": "markdown",
      "source": [
        "Nesse relatório analisamos a distribuição das notas de alunos do ciclo básico de Engenharia na disciplina Eletricidade Básica (EB). A nota final da prova é composta de 0 a 2 pontos de atividade e 0 a 8 pontos da prova em si. Na prova foram abordados os seguintes conteúdos: Lei de Ohm, força elétrica e campo elétrico."
      ]
    },
    {
      "metadata": {
        "id": "-0uVUbEhRPaL",
        "colab_type": "code",
        "colab": {}
      },
      "cell_type": "code",
      "source": [
        "import numpy as np\n",
        "import pandas as pd\n",
        "import matplotlib as plt"
      ],
      "execution_count": 0,
      "outputs": []
    },
    {
      "metadata": {
        "id": "EIFF8hMnRPaV",
        "colab_type": "code",
        "colab": {}
      },
      "cell_type": "code",
      "source": [
        "file=\"https://raw.githubusercontent.com/fabiolamariana/Python/master/EB_notas_P1_.csv\"\n",
        "np1 = pd.read_csv(file, delimiter=',')"
      ],
      "execution_count": 0,
      "outputs": []
    },
    {
      "metadata": {
        "id": "dexzC08TRPad",
        "colab_type": "code",
        "colab": {}
      },
      "cell_type": "code",
      "source": [
        "#np1.head()"
      ],
      "execution_count": 0,
      "outputs": []
    },
    {
      "metadata": {
        "id": "eiRgDFPLRPal",
        "colab_type": "text"
      },
      "cell_type": "markdown",
      "source": [
        "## Presença na prova"
      ]
    },
    {
      "metadata": {
        "id": "aqYSQWGSRPan",
        "colab_type": "code",
        "outputId": "d23b50b1-7769-4926-b189-852de8b9bc5e",
        "colab": {
          "base_uri": "https://localhost:8080/",
          "height": 72
        }
      },
      "cell_type": "code",
      "source": [
        "# quantidade de alunos que compareceram\n",
        "a=np1.NP1.str.contains('').sum()   #total de alunos na lista\n",
        "b=np1.NP1.str.contains('NC').sum() #total de alunos que não compareceram\n",
        "print(\"alunos presentes:\", a-b)\n",
        "print(\"alunos ausentes:\", b)\n",
        "print(\"presença:\", round((a-b)/(a)*100,1), \"%\")"
      ],
      "execution_count": 30,
      "outputs": [
        {
          "output_type": "stream",
          "text": [
            "alunos presentes: 74\n",
            "alunos ausentes: 12\n",
            "presença: 86.0 %\n"
          ],
          "name": "stdout"
        }
      ]
    },
    {
      "metadata": {
        "id": "U_bx2rgLRPaz",
        "colab_type": "code",
        "colab": {}
      },
      "cell_type": "code",
      "source": [
        "# limpando os NC\n",
        "np1['NP1']=np1.NP1.str.replace('NC','NaN').astype(float)\n",
        "np1_c = np1.dropna(subset=['NP1'], how='any')\n",
        "#np1_c contém as notas sem NC"
      ],
      "execution_count": 0,
      "outputs": []
    },
    {
      "metadata": {
        "id": "s3CPLwnARPbD",
        "colab_type": "text"
      },
      "cell_type": "markdown",
      "source": [
        "## Média e desvio padrão geral"
      ]
    },
    {
      "metadata": {
        "id": "L0mu5rnZRPbI",
        "colab_type": "code",
        "outputId": "900be20d-f252-4457-c66f-cd9fa0da69fe",
        "colab": {
          "base_uri": "https://localhost:8080/",
          "height": 72
        }
      },
      "cell_type": "code",
      "source": [
        "#calculando médias\n",
        "media=np1_c.NP1.mean()\n",
        "desvpad=np1_c.NP1.std()\n",
        "desvpad_av=desvpad/(a-b)**(1./2)\n",
        "print('média geral:', round(media,2))\n",
        "print('desvio padrão:', round(desvpad,2))\n",
        "print('desvio padrão da média:', round(desvpad_av,2))\n"
      ],
      "execution_count": 32,
      "outputs": [
        {
          "output_type": "stream",
          "text": [
            "média geral: 5.7\n",
            "desvio padrão: 2.36\n",
            "desvio padrão da média: 0.27\n"
          ],
          "name": "stdout"
        }
      ]
    },
    {
      "metadata": {
        "id": "DphEaC-NRPbY",
        "colab_type": "text"
      },
      "cell_type": "markdown",
      "source": [
        "## Média e desvio padrão por turma"
      ]
    },
    {
      "metadata": {
        "id": "01kuMunYRPbZ",
        "colab_type": "code",
        "outputId": "fffef253-55e7-4f75-a56a-38a212481ad2",
        "colab": {
          "base_uri": "https://localhost:8080/",
          "height": 109
        }
      },
      "cell_type": "code",
      "source": [
        "# médias por turma\n",
        "np1_c.groupby(\"Turma\").NP1.mean()"
      ],
      "execution_count": 33,
      "outputs": [
        {
          "output_type": "execute_result",
          "data": {
            "text/plain": [
              "Turma\n",
              "EB2P01    4.886364\n",
              "EB3P01    6.181818\n",
              "EB3Q01    5.933333\n",
              "Name: NP1, dtype: float64"
            ]
          },
          "metadata": {
            "tags": []
          },
          "execution_count": 33
        }
      ]
    },
    {
      "metadata": {
        "id": "C0B8c-D5RPbg",
        "colab_type": "code",
        "outputId": "71367363-2254-4acd-ad14-129de1d7a898",
        "colab": {
          "base_uri": "https://localhost:8080/",
          "height": 109
        }
      },
      "cell_type": "code",
      "source": [
        "#desvio padrão por turma\n",
        "np1_c.groupby(\"Turma\").NP1.std()"
      ],
      "execution_count": 34,
      "outputs": [
        {
          "output_type": "execute_result",
          "data": {
            "text/plain": [
              "Turma\n",
              "EB2P01    1.573076\n",
              "EB3P01    2.461830\n",
              "EB3Q01    2.654642\n",
              "Name: NP1, dtype: float64"
            ]
          },
          "metadata": {
            "tags": []
          },
          "execution_count": 34
        }
      ]
    },
    {
      "metadata": {
        "id": "3okQ24ZNRPbq",
        "colab_type": "code",
        "outputId": "6a9259c2-b479-4748-cea6-b00d04593c37",
        "colab": {
          "base_uri": "https://localhost:8080/",
          "height": 380
        }
      },
      "cell_type": "code",
      "source": [
        "#gráfico média por turma com desvio padrão\n",
        "np1_c.groupby('Turma').mean().plot(kind='barh', xlim=(0,10), title=\"média por turma com desvio padrão\", xerr=np1_c.groupby(\"Turma\").NP1.std())"
      ],
      "execution_count": 35,
      "outputs": [
        {
          "output_type": "execute_result",
          "data": {
            "text/plain": [
              "<matplotlib.axes._subplots.AxesSubplot at 0x7f6f3ec07128>"
            ]
          },
          "metadata": {
            "tags": []
          },
          "execution_count": 35
        },
        {
          "output_type": "display_data",
          "data": {
            "image/png": "[encoded data removed]",
            "text/plain": [
              "<Figure size 576x396 with 1 Axes>"
            ]
          },
          "metadata": {
            "tags": []
          }
        }
      ]
    },
    {
      "metadata": {
        "id": "37yTmkjERPbw",
        "colab_type": "text"
      },
      "cell_type": "markdown",
      "source": [
        "## Distribuição de notas\n",
        "\n",
        "Nos gráficos a seguir são apresentados histogramas com a distribuição das notas. O primeiro histograma contém todas as notas, os seguintes são divididos por turma."
      ]
    },
    {
      "metadata": {
        "id": "JZJwWR5ZRPbz",
        "colab_type": "code",
        "outputId": "26e6ceb9-6a71-4db3-968c-14de4004be1c",
        "colab": {
          "base_uri": "https://localhost:8080/",
          "height": 380
        }
      },
      "cell_type": "code",
      "source": [
        "#histograma\n",
        "\n",
        "np1_c['NP1'].plot(kind='hist', title=\"Geral\", xlim=(0,10), bins=[0,1,2,3,4,5,6,7,8,9,10])\n"
      ],
      "execution_count": 41,
      "outputs": [
        {
          "output_type": "execute_result",
          "data": {
            "text/plain": [
              "<matplotlib.axes._subplots.AxesSubplot at 0x7f6f3ca4add8>"
            ]
          },
          "metadata": {
            "tags": []
          },
          "execution_count": 41
        },
        {
          "output_type": "display_data",
          "data": {
            "image/png": "[encoded data removed]",
            "text/plain": [
              "<Figure size 576x396 with 1 Axes>"
            ]
          },
          "metadata": {
            "tags": []
          }
        }
      ]
    },
    {
      "metadata": {
        "id": "6fYXUuMGRPb9",
        "colab_type": "code",
        "outputId": "74d32567-f4f9-49c1-a4d8-821c4245b2c5",
        "colab": {
          "base_uri": "https://localhost:8080/",
          "height": 380
        }
      },
      "cell_type": "code",
      "source": [
        "np1_c[np1_c.Turma==\"EB3P01\"]['NP1'].plot(kind='hist', title=\"3P\",xlim=(0,10), bins=[0,1,2,3,4,5,6,7,8,9,10])"
      ],
      "execution_count": 40,
      "outputs": [
        {
          "output_type": "execute_result",
          "data": {
            "text/plain": [
              "<matplotlib.axes._subplots.AxesSubplot at 0x7f6f3ca20780>"
            ]
          },
          "metadata": {
            "tags": []
          },
          "execution_count": 40
        },
        {
          "output_type": "display_data",
          "data": {
            "image/png": "[encoded data removed]",
            "text/plain": [
              "<Figure size 576x396 with 1 Axes>"
            ]
          },
          "metadata": {
            "tags": []
          }
        }
      ]
    },
    {
      "metadata": {
        "id": "LoOayFyMRPcJ",
        "colab_type": "code",
        "outputId": "683315bd-ed6a-43b8-c3e4-b1111438c63c",
        "colab": {
          "base_uri": "https://localhost:8080/",
          "height": 380
        }
      },
      "cell_type": "code",
      "source": [
        "np1_c[np1_c.Turma==\"EB3Q01\"]['NP1'].plot(kind='hist', title=\"3Q\",xlim=(0,10),bins=[0,1,2,3,4,5,6,7,8,9,10])"
      ],
      "execution_count": 42,
      "outputs": [
        {
          "output_type": "execute_result",
          "data": {
            "text/plain": [
              "<matplotlib.axes._subplots.AxesSubplot at 0x7f6f3c975da0>"
            ]
          },
          "metadata": {
            "tags": []
          },
          "execution_count": 42
        },
        {
          "output_type": "display_data",
          "data": {
            "image/png": "[encoded data removed]",
            "text/plain": [
              "<Figure size 576x396 with 1 Axes>"
            ]
          },
          "metadata": {
            "tags": []
          }
        }
      ]
    },
    {
      "metadata": {
        "id": "xBoM7IFzRPcV",
        "colab_type": "code",
        "outputId": "8d970442-4219-45fa-d825-a5b5847d7456",
        "colab": {
          "base_uri": "https://localhost:8080/",
          "height": 380
        }
      },
      "cell_type": "code",
      "source": [
        "np1_c[np1_c.Turma==\"EB2P01\"]['NP1'].plot(kind='hist', title=\"2P\",xlim=(0,10),bins=[0,1,2,3,4,5,6,7,8,9,10])"
      ],
      "execution_count": 43,
      "outputs": [
        {
          "output_type": "execute_result",
          "data": {
            "text/plain": [
              "<matplotlib.axes._subplots.AxesSubplot at 0x7f6f3ca62438>"
            ]
          },
          "metadata": {
            "tags": []
          },
          "execution_count": 43
        },
        {
          "output_type": "display_data",
          "data": {
            "image/png": "[encoded data removed]",
            "text/plain": [
              "<Figure size 576x396 with 1 Axes>"
            ]
          },
          "metadata": {
            "tags": []
          }
        }
      ]
    },
    {
      "metadata": {
        "id": "oDFstnSgRPc6",
        "colab_type": "code",
        "outputId": "07b83077-2f5d-46c3-e8c2-9769c6647830",
        "colab": {
          "base_uri": "https://localhost:8080/",
          "height": 587
        }
      },
      "cell_type": "code",
      "source": [
        "np1_c.hist(column='NP1', by=\"Turma\", figsize=(10,8), bins=[0,1,2,3,4,5,6,7,8,9,10], xrot=1)"
      ],
      "execution_count": 51,
      "outputs": [
        {
          "output_type": "execute_result",
          "data": {
            "text/plain": [
              "array([[<matplotlib.axes._subplots.AxesSubplot object at 0x7f6f3c09ab38>,\n",
              "        <matplotlib.axes._subplots.AxesSubplot object at 0x7f6f3c0d0b70>],\n",
              "       [<matplotlib.axes._subplots.AxesSubplot object at 0x7f6f3c07d518>,\n",
              "        <matplotlib.axes._subplots.AxesSubplot object at 0x7f6f3c023e80>]],\n",
              "      dtype=object)"
            ]
          },
          "metadata": {
            "tags": []
          },
          "execution_count": 51
        },
        {
          "output_type": "display_data",
          "data": {
            "image/png": "[encoded data removed]",
            "text/plain": [
              "<Figure size 720x576 with 4 Axes>"
            ]
          },
          "metadata": {
            "tags": []
          }
        }
      ]
    }
  ]
}
