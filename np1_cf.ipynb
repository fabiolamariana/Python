{
 "cells": [
  {
   "cell_type": "markdown",
   "metadata": {},
   "source": [
    "# <center> Análise das notas da P1 de CF - 2018/2\n",
    "\n",
    "#### <center> profa. Dra. Fabíola Ribeiro"
   ]
  },
  {
   "cell_type": "markdown",
   "metadata": {},
   "source": [
    "Nesse relatório analisamos a distribuição das notas de alunos do ciclo básico de Engenharia na disciplina Complementos de Física (CF). A nota final da prova é composta de 0 a 2 pontos de atividade e 0 a 8 pontos da prova em si. Na prova foram abordados os seguintes conteúdos: circuito RLC, indução eletromagnética, oscilações não amortecidas."
   ]
  },
  {
   "cell_type": "code",
   "execution_count": 92,
   "metadata": {},
   "outputs": [],
   "source": [
    "import numpy as np\n",
    "import pandas as pd\n",
    "import matplotlib as plt"
   ]
  },
  {
   "cell_type": "code",
   "execution_count": 56,
   "metadata": {},
   "outputs": [],
   "source": [
    "file=\"/mnt/sda/Documentos/notas_p1_cf2.csv\"\n",
    "np1 = pd.read_csv(file)"
   ]
  },
  {
   "cell_type": "code",
   "execution_count": 154,
   "metadata": {},
   "outputs": [],
   "source": [
    "#np1.head()"
   ]
  },
  {
   "cell_type": "markdown",
   "metadata": {},
   "source": [
    "## Presença na prova"
   ]
  },
  {
   "cell_type": "code",
   "execution_count": 58,
   "metadata": {},
   "outputs": [
    {
     "name": "stdout",
     "output_type": "stream",
     "text": [
      "alunos presentes: 134\n",
      "alunos ausentes: 49\n",
      "presença: 73.2 %\n"
     ]
    }
   ],
   "source": [
    "# quantidade de alunos que compareceram\n",
    "a=np1.NP1.str.contains('').sum()   #total de alunos na lista\n",
    "b=np1.NP1.str.contains('NC').sum() #total de alunos que não compareceram\n",
    "print(\"alunos presentes:\", a-b)\n",
    "print(\"alunos ausentes:\", b)\n",
    "print(\"presença:\", round((a-b)/(a)*100,1), \"%\")"
   ]
  },
  {
   "cell_type": "markdown",
   "metadata": {},
   "source": [
    "Cerca de um de cada 4 alunos não compareceu à prova, por se tratar da primeira prova do semestre dessa matéria e pela sub ser aberta, não é uma frequência baixa."
   ]
  },
  {
   "cell_type": "code",
   "execution_count": 50,
   "metadata": {},
   "outputs": [],
   "source": [
    "# limpando os NC\n",
    "np1['NP1']=np1.NP1.str.replace('NC','NaN').astype(float)]\n",
    "np1_c = np1.dropna(subset=['NP1'], how='any')\n",
    "#np1_c contém as notas sem NC"
   ]
  },
  {
   "cell_type": "code",
   "execution_count": 155,
   "metadata": {},
   "outputs": [],
   "source": [
    "#np1_c.head(15)"
   ]
  },
  {
   "cell_type": "markdown",
   "metadata": {},
   "source": [
    "## Média e desvio padrão geral"
   ]
  },
  {
   "cell_type": "code",
   "execution_count": 85,
   "metadata": {},
   "outputs": [
    {
     "name": "stdout",
     "output_type": "stream",
     "text": [
      "média geral: 5.46\n",
      "desvio padrão: 2.19\n",
      "desvio padrão da média: 0.19\n"
     ]
    }
   ],
   "source": [
    "#calculando médias\n",
    "media=np1_c.NP1.mean()\n",
    "desvpad=np1_c.NP1.std()\n",
    "desvpad_av=desvpad/(a-b)**(1./2)\n",
    "print('média geral:', round(media,2))\n",
    "print('desvio padrão:', round(desvpad,2))\n",
    "print('desvio padrão da média:', round(desvpad_av,2))\n"
   ]
  },
  {
   "cell_type": "markdown",
   "metadata": {},
   "source": [
    "A média geral das notas está próxima de 5, o que é razoável para uma prova onde as notas vão de 0 a 10. Note que esse valor é, na verdade, inferior, pois a nota final da prova é composta de 0 a 2 pontos de trabalho e 0 a 8 pontos de nota da prova. Nem todos os alunos atingiram os 2 pontos de nota de trabalho.\n",
    "\n",
    "O desvio padrão evidencia uma dispersão considerável das notas ao redor da média.\n",
    "\n",
    "Como valor médio da nota dos alunos nessa prova, temos NP1=5,46(19)."
   ]
  },
  {
   "cell_type": "markdown",
   "metadata": {},
   "source": [
    "## Média e desvio padrão por turma"
   ]
  },
  {
   "cell_type": "code",
   "execution_count": 69,
   "metadata": {},
   "outputs": [
    {
     "data": {
      "text/plain": [
       "Turma\n",
       "3P    5.053846\n",
       "3Q    5.126087\n",
       "4P    5.774286\n",
       "4Q    5.060000\n",
       "4R    5.587500\n",
       "4S    5.789474\n",
       "Name: NP1, dtype: float64"
      ]
     },
     "execution_count": 69,
     "metadata": {},
     "output_type": "execute_result"
    }
   ],
   "source": [
    "# médias por turma\n",
    "np1_c.groupby(\"Turma\").NP1.mean()"
   ]
  },
  {
   "cell_type": "code",
   "execution_count": 86,
   "metadata": {},
   "outputs": [
    {
     "data": {
      "text/plain": [
       "Turma\n",
       "3P    2.220967\n",
       "3Q    2.258362\n",
       "4P    2.256017\n",
       "4Q    2.456227\n",
       "4R    1.981943\n",
       "4S    2.037126\n",
       "Name: NP1, dtype: float64"
      ]
     },
     "execution_count": 86,
     "metadata": {},
     "output_type": "execute_result"
    }
   ],
   "source": [
    "#desvio padrão por turma\n",
    "np1_c.groupby(\"Turma\").NP1.std()"
   ]
  },
  {
   "cell_type": "markdown",
   "metadata": {},
   "source": [
    "Não notamos grandes discrepâncias quando comparamos as médias por turma. A maior média ocorreu nas turmas 4S e 4P, enquanto as menores médias ocorreram nas turmas 3P e 4S.\n",
    "\n",
    "Quanto à dispersão, as notas se mostraram mais espalhadas na turma 4Q e menos espalhadas nas turmas 4R e 4S.\n",
    "\n",
    "As médias e os desvios padrões são representados no gráfico a seguir."
   ]
  },
  {
   "cell_type": "code",
   "execution_count": 195,
   "metadata": {},
   "outputs": [
    {
     "data": {
      "text/plain": [
       "<matplotlib.axes._subplots.AxesSubplot at 0x7f100cb96ef0>"
      ]
     },
     "execution_count": 195,
     "metadata": {},
     "output_type": "execute_result"
    },
    {
     "data": {
      "image/png": "[encoded data removed]",
      "text/plain": [
       "<Figure size 432x288 with 1 Axes>"
      ]
     },
     "metadata": {},
     "output_type": "display_data"
    }
   ],
   "source": [
    "#gráfico média por turma com desvio padrão\n",
    "np1_c.groupby('Turma').mean().plot(kind='barh', xlim=(0,10), title=\"média por turma com desvio padrão\", xerr=np1_c.groupby(\"Turma\").NP1.std())"
   ]
  },
  {
   "cell_type": "markdown",
   "metadata": {},
   "source": [
    "## Distribuição de notas\n",
    "\n",
    "Nos gráficos a seguir são apresentados histogramas com a distribuição das notas. O primeiro histograma contém todas as notas, os seguintes são divididos por turma."
   ]
  },
  {
   "cell_type": "code",
   "execution_count": 181,
   "metadata": {},
   "outputs": [
    {
     "data": {
      "text/plain": [
       "<matplotlib.axes._subplots.AxesSubplot at 0x7f100cf45160>"
      ]
     },
     "execution_count": 181,
     "metadata": {},
     "output_type": "execute_result"
    },
    {
     "data": {
      "image/png": "[encoded data removed]",
      "text/plain": [
       "<Figure size 432x288 with 1 Axes>"
      ]
     },
     "metadata": {},
     "output_type": "display_data"
    }
   ],
   "source": [
    "#histograma\n",
    "\n",
    "np1_c['NP1'].plot(kind='hist', title=\"Geral\", xlim=(0,10))\n"
   ]
  },
  {
   "cell_type": "markdown",
   "metadata": {},
   "source": [
    "Temos uma concentração de notas na região central do histograma, com um maior número de notas entre 5 e 6. Note que tivemos apenas duas notas entre 0 e 1. Como a nota final é a composição da nota de trabalho, de 0 a 2, e da prova, de 0 a 8, esses alunos não entregaram o trabalho ou entregaram parcialmente."
   ]
  },
  {
   "cell_type": "code",
   "execution_count": 216,
   "metadata": {},
   "outputs": [
    {
     "data": {
      "text/plain": [
       "<matplotlib.axes._subplots.AxesSubplot at 0x7f100c74ec18>"
      ]
     },
     "execution_count": 216,
     "metadata": {},
     "output_type": "execute_result"
    },
    {
     "data": {
      "image/png": "[encoded data removed]",
      "text/plain": [
       "<Figure size 432x288 with 1 Axes>"
      ]
     },
     "metadata": {},
     "output_type": "display_data"
    }
   ],
   "source": [
    "np1_c[np1_c.Turma==\"4P\"]['NP1'].plot(kind='hist', title=\"4P\",xlim=(0,10), bins=[0,1,2,3,4,5,6,7,8,9,10])"
   ]
  },
  {
   "cell_type": "markdown",
   "metadata": {},
   "source": [
    "Para a turma 4P temos apenas uma ocorrência de nota entre 0 e 2, e 4 ocorrências de nota entre 9 e 10. O pico do histograma é levemente assimétrico e tem máximo na nota 6."
   ]
  },
  {
   "cell_type": "code",
   "execution_count": 240,
   "metadata": {},
   "outputs": [
    {
     "data": {
      "text/plain": [
       "<matplotlib.axes._subplots.AxesSubplot at 0x7f100a4c8c18>"
      ]
     },
     "execution_count": 240,
     "metadata": {},
     "output_type": "execute_result"
    },
    {
     "data": {
      "image/png": "[encoded data removed]",
      "text/plain": [
       "<Figure size 432x288 with 1 Axes>"
      ]
     },
     "metadata": {},
     "output_type": "display_data"
    }
   ],
   "source": [
    "np1_c[np1_c.Turma==\"4Q\"]['NP1'].plot(kind='hist', title=\"4Q\",xlim=(0,10),bins=[0,1,2,3,4,5,6,7,8,9,10])"
   ]
  },
  {
   "cell_type": "markdown",
   "metadata": {},
   "source": [
    "Para a turma 4Q temos uma única ocorrência de nota entre 0 e 1 e duas ocorrências de nota entre 9 e 10. O pico do histograma é mais estreito e com máximo bem destacado entre 4 e 5."
   ]
  },
  {
   "cell_type": "code",
   "execution_count": 217,
   "metadata": {},
   "outputs": [
    {
     "data": {
      "text/plain": [
       "<matplotlib.axes._subplots.AxesSubplot at 0x7f100c6f0cf8>"
      ]
     },
     "execution_count": 217,
     "metadata": {},
     "output_type": "execute_result"
    },
    {
     "data": {
      "image/png": "[encoded data removed]",
      "text/plain": [
       "<Figure size 432x288 with 1 Axes>"
      ]
     },
     "metadata": {},
     "output_type": "display_data"
    }
   ],
   "source": [
    "np1_c[np1_c.Turma==\"4R\"]['NP1'].plot(kind='hist', title=\"4R\",xlim=(0,10),bins=[0,1,2,3,4,5,6,7,8,9,10])"
   ]
  },
  {
   "cell_type": "markdown",
   "metadata": {},
   "source": [
    "Para a turma 4R temos um histograma mais largo, evidenciando uma variedade de notas. O pico tem seu máximo em notas entre 4 e 5."
   ]
  },
  {
   "cell_type": "code",
   "execution_count": 218,
   "metadata": {},
   "outputs": [
    {
     "data": {
      "text/plain": [
       "<matplotlib.axes._subplots.AxesSubplot at 0x7f100c6387b8>"
      ]
     },
     "execution_count": 218,
     "metadata": {},
     "output_type": "execute_result"
    },
    {
     "data": {
      "image/png": "[encoded data removed]",
      "text/plain": [
       "<Figure size 432x288 with 1 Axes>"
      ]
     },
     "metadata": {},
     "output_type": "display_data"
    }
   ],
   "source": [
    "np1_c[np1_c.Turma==\"4S\"]['NP1'].plot(kind='hist', title=\"4S\",xlim=(0,10),bins=[0,1,2,3,4,5,6,7,8,9,10])"
   ]
  },
  {
   "cell_type": "markdown",
   "metadata": {},
   "source": [
    "Para a turma 4S o histograma não apresenta um único pico. Temos 3 provas com nota entre 2 e 3 e uma distribuição de notas entre 4 e 10. Esse segundo setor do histograma apresenta dois picos, um maior com notas entre 7 e 8 e um menor com notas entre 5 e 6."
   ]
  },
  {
   "cell_type": "code",
   "execution_count": 219,
   "metadata": {},
   "outputs": [
    {
     "data": {
      "text/plain": [
       "<matplotlib.axes._subplots.AxesSubplot at 0x7f100c5b9470>"
      ]
     },
     "execution_count": 219,
     "metadata": {},
     "output_type": "execute_result"
    },
    {
     "data": {
      "image/png": "[encoded data removed]",
      "text/plain": [
       "<Figure size 432x288 with 1 Axes>"
      ]
     },
     "metadata": {},
     "output_type": "display_data"
    }
   ],
   "source": [
    "np1_c[np1_c.Turma==\"3P\"]['NP1'].plot(kind='hist', title=\"3P\",xlim=(0,10), bins=[0,1,2,3,4,5,6,7,8,9,10])"
   ]
  },
  {
   "cell_type": "markdown",
   "metadata": {},
   "source": [
    "O histograma das notas da turma 3P apresenta um comportamento interessante. Temos um pico destacado de notas entre 7 e 8, e outro menos destacado e mais espalhado com pico entre 2 e 3. Esses picos são unidos por uma distribuição uniforme de notas entre 4 e 7. Isso evidencia a presença de pelo menos dois grupos distintos de desempenho na prova."
   ]
  },
  {
   "cell_type": "code",
   "execution_count": 224,
   "metadata": {},
   "outputs": [
    {
     "data": {
      "text/plain": [
       "<matplotlib.axes._subplots.AxesSubplot at 0x7f100c4d5048>"
      ]
     },
     "execution_count": 224,
     "metadata": {},
     "output_type": "execute_result"
    },
    {
     "data": {
      "image/png": "[encoded data removed]",
      "text/plain": [
       "<Figure size 432x288 with 1 Axes>"
      ]
     },
     "metadata": {},
     "output_type": "display_data"
    }
   ],
   "source": [
    "np1_c[np1_c.Turma==\"3Q\"]['NP1'].plot(kind='hist', title=\"3Q\",xlim=(0,10),bins=[0,1,2,3,4,5,6,7,8,9,10])"
   ]
  },
  {
   "cell_type": "markdown",
   "metadata": {},
   "source": [
    "O histograma das notas da turma 3Q também apresenta dois picos distintos e assimétricos. Temos um pico maior com máximo em notas entre 5 e 6, e outro menor com máximo de notas entre 2 e 3.\n",
    "\n",
    "Na figura a seguir apresentamos os histogramas das diferentes turmas para melhor comparação."
   ]
  },
  {
   "cell_type": "code",
   "execution_count": 239,
   "metadata": {},
   "outputs": [
    {
     "data": {
      "text/plain": [
       "array([[<matplotlib.axes._subplots.AxesSubplot object at 0x7f100a7fd780>,\n",
       "        <matplotlib.axes._subplots.AxesSubplot object at 0x7f100a6b8550>],\n",
       "       [<matplotlib.axes._subplots.AxesSubplot object at 0x7f100a6ddbe0>,\n",
       "        <matplotlib.axes._subplots.AxesSubplot object at 0x7f100a68d2b0>],\n",
       "       [<matplotlib.axes._subplots.AxesSubplot object at 0x7f100a634940>,\n",
       "        <matplotlib.axes._subplots.AxesSubplot object at 0x7f100a634978>]],\n",
       "      dtype=object)"
      ]
     },
     "execution_count": 239,
     "metadata": {},
     "output_type": "execute_result"
    },
    {
     "data": {
      "image/png": "[encoded data removed]",
      "text/plain": [
       "<Figure size 864x864 with 6 Axes>"
      ]
     },
     "metadata": {},
     "output_type": "display_data"
    }
   ],
   "source": [
    "np1_c.hist(column='NP1', by=\"Turma\", figsize=(12,12), bins=[0,1,2,3,4,5,6,7,8,9,10], xrot=1)"
   ]
  },
  {
   "cell_type": "markdown",
   "metadata": {},
   "source": [
    "## Conclusões\n",
    "\n",
    "A prova se mostrou eficiente no papel avaliativo a que se prestava, de forma que as notas dos alunos se localizaram  com média em 5,46(19). Não houve uma diferença significativa das notas médias comparando-se turma a turma. Analisando os histogramas podemos concluir que as diferentes turmas apresentam desempenho distinto nas provas, enquanto a turma 4R, por exemplo, apresenta um comportamento onde a maior parte dos alunos obteve nota próxima da média, enquanto em outras turmas, como na 3P, há evidentemente dois desempenhos distintos na prova."
   ]
  }
 ],
 "metadata": {
  "kernelspec": {
   "display_name": "Python 3",
   "language": "python",
   "name": "python3"
  },
  "language_info": {
   "codemirror_mode": {
    "name": "ipython",
    "version": 3
   },
   "file_extension": ".py",
   "mimetype": "text/x-python",
   "name": "python",
   "nbconvert_exporter": "python",
   "pygments_lexer": "ipython3",
   "version": "3.6.5"
  }
 },
 "nbformat": 4,
 "nbformat_minor": 2
}
