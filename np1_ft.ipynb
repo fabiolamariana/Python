{
  "nbformat": 4,
  "nbformat_minor": 0,
  "metadata": {
    "colab": {
      "name": "np1_cf.ipynb",
      "version": "0.3.2",
      "provenance": [],
      "include_colab_link": true
    },
    "kernelspec": {
      "display_name": "Python 3",
      "language": "python",
      "name": "python3"
    }
  },
  "cells": [
    {
      "cell_type": "markdown",
      "metadata": {
        "id": "view-in-github",
        "colab_type": "text"
      },
      "source": [
        "<a href=\"https://colab.research.google.com/github/fabiolamariana/Python/blob/master/np1_ft.ipynb\" target=\"_parent\"><img src=\"https://colab.research.google.com/assets/colab-badge.svg\" alt=\"Open In Colab\"/></a>"
      ]
    },
    {
      "metadata": {
        "id": "YqLjxili8Pum",
        "colab_type": "text"
      },
      "cell_type": "markdown",
      "source": [
        "# <center> Análise das notas da P1 de FT - 2019/1\n",
        "\n",
        "#### <center> profa. Dra. Fabíola Ribeiro"
      ]
    },
    {
      "metadata": {
        "id": "uoIddWDL8Pux",
        "colab_type": "code",
        "colab": {}
      },
      "cell_type": "code",
      "source": [
        "import numpy as np\n",
        "import pandas as pd\n",
        "import matplotlib as plt"
      ],
      "execution_count": 0,
      "outputs": []
    },
    {
      "metadata": {
        "id": "2R4ZymK-8Pu9",
        "colab_type": "code",
        "colab": {}
      },
      "cell_type": "code",
      "source": [
        "file=\"https://raw.githubusercontent.com/fabiolamariana/Python/master/FT_notas.csv\"\n",
        "np1 = pd.read_csv(file)"
      ],
      "execution_count": 0,
      "outputs": []
    },
    {
      "metadata": {
        "id": "uSWM45bz8PvE",
        "colab_type": "code",
        "colab": {
          "base_uri": "https://localhost:8080/",
          "height": 206
        },
        "outputId": "aa20169b-174f-4725-c182-131fa822b9ab"
      },
      "cell_type": "code",
      "source": [
        "np1.head()"
      ],
      "execution_count": 3,
      "outputs": [
        {
          "output_type": "execute_result",
          "data": {
            "text/html": [
              "<div>\n",
              "<style scoped>\n",
              "    .dataframe tbody tr th:only-of-type {\n",
              "        vertical-align: middle;\n",
              "    }\n",
              "\n",
              "    .dataframe tbody tr th {\n",
              "        vertical-align: top;\n",
              "    }\n",
              "\n",
              "    .dataframe thead th {\n",
              "        text-align: right;\n",
              "    }\n",
              "</style>\n",
              "<table border=\"1\" class=\"dataframe\">\n",
              "  <thead>\n",
              "    <tr style=\"text-align: right;\">\n",
              "      <th></th>\n",
              "      <th>Turma</th>\n",
              "      <th>NP1</th>\n",
              "    </tr>\n",
              "  </thead>\n",
              "  <tbody>\n",
              "    <tr>\n",
              "      <th>0</th>\n",
              "      <td>EB3P33</td>\n",
              "      <td>10</td>\n",
              "    </tr>\n",
              "    <tr>\n",
              "      <th>1</th>\n",
              "      <td>EB3P33</td>\n",
              "      <td>3.5</td>\n",
              "    </tr>\n",
              "    <tr>\n",
              "      <th>2</th>\n",
              "      <td>EB3P33</td>\n",
              "      <td>8.5</td>\n",
              "    </tr>\n",
              "    <tr>\n",
              "      <th>3</th>\n",
              "      <td>EB3P33</td>\n",
              "      <td>4</td>\n",
              "    </tr>\n",
              "    <tr>\n",
              "      <th>4</th>\n",
              "      <td>EB3P33</td>\n",
              "      <td>8.5</td>\n",
              "    </tr>\n",
              "  </tbody>\n",
              "</table>\n",
              "</div>"
            ],
            "text/plain": [
              "    Turma  NP1\n",
              "0  EB3P33   10\n",
              "1  EB3P33  3.5\n",
              "2  EB3P33  8.5\n",
              "3  EB3P33    4\n",
              "4  EB3P33  8.5"
            ]
          },
          "metadata": {
            "tags": []
          },
          "execution_count": 3
        }
      ]
    },
    {
      "metadata": {
        "id": "e0n26dxC8PvN",
        "colab_type": "text"
      },
      "cell_type": "markdown",
      "source": [
        "## Presença na prova"
      ]
    },
    {
      "metadata": {
        "id": "t8Qadlvg8PvP",
        "colab_type": "code",
        "outputId": "e22f660b-9307-43a5-a3d9-a3a9057f76d8",
        "colab": {
          "base_uri": "https://localhost:8080/",
          "height": 72
        }
      },
      "cell_type": "code",
      "source": [
        "# quantidade de alunos que compareceram\n",
        "a=np1.NP1.str.contains('').sum()   #total de alunos na lista\n",
        "b=np1.NP1.str.contains('NC').sum() #total de alunos que não compareceram\n",
        "print(\"alunos presentes:\", a-b)\n",
        "print(\"alunos ausentes:\", b)\n",
        "print(\"presença:\", round((a-b)/(a)*100,1), \"%\")"
      ],
      "execution_count": 4,
      "outputs": [
        {
          "output_type": "stream",
          "text": [
            "alunos presentes: 200\n",
            "alunos ausentes: 23\n",
            "presença: 89.7 %\n"
          ],
          "name": "stdout"
        }
      ]
    },
    {
      "metadata": {
        "id": "5Vfkj8sr8Pva",
        "colab_type": "text"
      },
      "cell_type": "markdown",
      "source": [
        "Cerca de um de cada 4 alunos não compareceu à prova, por se tratar da primeira prova do semestre dessa matéria e pela sub ser aberta, não é uma frequência baixa."
      ]
    },
    {
      "metadata": {
        "id": "KZsEfb748Pvc",
        "colab_type": "code",
        "colab": {}
      },
      "cell_type": "code",
      "source": [
        "# limpando os NC\n",
        "np1['NP1']=np1.NP1.str.replace('NC','NaN').astype(float)\n",
        "np1_c = np1.dropna(subset=['NP1'], how='any')\n",
        "#np1_c contém as notas sem NC"
      ],
      "execution_count": 0,
      "outputs": []
    },
    {
      "metadata": {
        "id": "iJ0Fy9H_8Pvj",
        "colab_type": "code",
        "colab": {}
      },
      "cell_type": "code",
      "source": [
        "#np1_c.head(15)"
      ],
      "execution_count": 0,
      "outputs": []
    },
    {
      "metadata": {
        "id": "yBdwfe8c8Pvs",
        "colab_type": "text"
      },
      "cell_type": "markdown",
      "source": [
        "## Média e desvio padrão geral"
      ]
    },
    {
      "metadata": {
        "id": "uU3G8YqX8Pvy",
        "colab_type": "code",
        "outputId": "1f634bbc-d2b3-4f73-a0f7-97dd5232b436",
        "colab": {
          "base_uri": "https://localhost:8080/",
          "height": 72
        }
      },
      "cell_type": "code",
      "source": [
        "#calculando médias\n",
        "media=np1_c.NP1.mean()\n",
        "desvpad=np1_c.NP1.std()\n",
        "desvpad_av=desvpad/(a-b)**(1./2)\n",
        "print('média geral:', round(media,2))\n",
        "print('desvio padrão:', round(desvpad,2))\n",
        "print('desvio padrão da média:', round(desvpad_av,2))\n"
      ],
      "execution_count": 6,
      "outputs": [
        {
          "output_type": "stream",
          "text": [
            "média geral: 6.01\n",
            "desvio padrão: 2.78\n",
            "desvio padrão da média: 0.2\n"
          ],
          "name": "stdout"
        }
      ]
    },
    {
      "metadata": {
        "id": "5wFc41Vt8PwC",
        "colab_type": "text"
      },
      "cell_type": "markdown",
      "source": [
        "## Média e desvio padrão por turma"
      ]
    },
    {
      "metadata": {
        "id": "DO2VpBaS8PwD",
        "colab_type": "code",
        "outputId": "666d4e5c-6c66-4ce8-d64a-475f0187b6ee",
        "colab": {
          "base_uri": "https://localhost:8080/",
          "height": 256
        }
      },
      "cell_type": "code",
      "source": [
        "# médias por turma\n",
        "np1_c.groupby(\"Turma\").NP1.mean()"
      ],
      "execution_count": 7,
      "outputs": [
        {
          "output_type": "execute_result",
          "data": {
            "text/plain": [
              "Turma\n",
              "EB2P33    5.718750\n",
              "EB2Q33    6.281250\n",
              "EB2R33    4.583333\n",
              "EB2S33    4.437500\n",
              "EB2T33    5.928571\n",
              "EB3P33    6.791667\n",
              "EB3Q33    6.791667\n",
              "EB3R33    5.913793\n",
              "EB3S33    4.392857\n",
              "EB3T33    6.562500\n",
              "EB3U33    5.880000\n",
              "Name: NP1, dtype: float64"
            ]
          },
          "metadata": {
            "tags": []
          },
          "execution_count": 7
        }
      ]
    },
    {
      "metadata": {
        "id": "GnCFTXC48PwK",
        "colab_type": "code",
        "outputId": "19f23d98-6542-4867-c2db-f490d149f0f4",
        "colab": {
          "base_uri": "https://localhost:8080/",
          "height": 256
        }
      },
      "cell_type": "code",
      "source": [
        "#desvio padrão por turma\n",
        "np1_c.groupby(\"Turma\").NP1.std()"
      ],
      "execution_count": 8,
      "outputs": [
        {
          "output_type": "execute_result",
          "data": {
            "text/plain": [
              "Turma\n",
              "EB2P33    3.444652\n",
              "EB2Q33    3.162113\n",
              "EB2R33    1.562583\n",
              "EB2S33    1.613282\n",
              "EB2T33    2.709365\n",
              "EB3P33    2.714361\n",
              "EB3Q33    2.624784\n",
              "EB3R33    2.768022\n",
              "EB3S33    2.371129\n",
              "EB3T33    2.771409\n",
              "EB3U33    2.777439\n",
              "Name: NP1, dtype: float64"
            ]
          },
          "metadata": {
            "tags": []
          },
          "execution_count": 8
        }
      ]
    },
    {
      "metadata": {
        "id": "ifdhLbd88PwT",
        "colab_type": "code",
        "outputId": "834639a9-9c54-4095-a97d-d0ee0acfd58d",
        "colab": {
          "base_uri": "https://localhost:8080/",
          "height": 380
        }
      },
      "cell_type": "code",
      "source": [
        "#gráfico média por turma com desvio padrão\n",
        "np1_c.groupby('Turma').mean().plot(kind='barh', xlim=(0,10), title=\"média por turma com desvio padrão\", xerr=np1_c.groupby(\"Turma\").NP1.std())"
      ],
      "execution_count": 9,
      "outputs": [
        {
          "output_type": "execute_result",
          "data": {
            "text/plain": [
              "<matplotlib.axes._subplots.AxesSubplot at 0x7f4b8394a0f0>"
            ]
          },
          "metadata": {
            "tags": []
          },
          "execution_count": 9
        },
        {
          "output_type": "display_data",
          "data": {
            "image/png": "[encoded data removed]",
            "text/plain": [
              "<Figure size 576x396 with 1 Axes>"
            ]
          },
          "metadata": {
            "tags": []
          }
        }
      ]
    },
    {
      "metadata": {
        "id": "NtDMaY-e8Pwb",
        "colab_type": "text"
      },
      "cell_type": "markdown",
      "source": [
        "## Distribuição de notas\n",
        "\n",
        "Nos gráficos a seguir são apresentados histogramas com a distribuição das notas. O primeiro histograma contém todas as notas, os seguintes são divididos por turma."
      ]
    },
    {
      "metadata": {
        "id": "Ehc1AOcs8Pwf",
        "colab_type": "code",
        "outputId": "06466053-0d16-4e34-a3ae-dd943129bcdd",
        "colab": {
          "base_uri": "https://localhost:8080/",
          "height": 380
        }
      },
      "cell_type": "code",
      "source": [
        "#histograma\n",
        "\n",
        "np1_c['NP1'].plot(kind='hist', title=\"Geral\", xlim=(0,10))\n"
      ],
      "execution_count": 10,
      "outputs": [
        {
          "output_type": "execute_result",
          "data": {
            "text/plain": [
              "<matplotlib.axes._subplots.AxesSubplot at 0x7f4b83923320>"
            ]
          },
          "metadata": {
            "tags": []
          },
          "execution_count": 10
        },
        {
          "output_type": "display_data",
          "data": {
            "image/png": "[encoded data removed]",
            "text/plain": [
              "<Figure size 576x396 with 1 Axes>"
            ]
          },
          "metadata": {
            "tags": []
          }
        }
      ]
    },
    {
      "metadata": {
        "id": "g3HjrXV38Pwo",
        "colab_type": "code",
        "outputId": "faf531ed-a222-4e32-a0bb-d05bad9b9fe4",
        "colab": {
          "base_uri": "https://localhost:8080/",
          "height": 380
        }
      },
      "cell_type": "code",
      "source": [
        "np1_c[np1_c.Turma==\"EB3P33\"]['NP1'].plot(kind='hist', title=\"3P\",xlim=(0,10), bins=[0,1,2,3,4,5,6,7,8,9,10])"
      ],
      "execution_count": 12,
      "outputs": [
        {
          "output_type": "execute_result",
          "data": {
            "text/plain": [
              "<matplotlib.axes._subplots.AxesSubplot at 0x7f4b81539e80>"
            ]
          },
          "metadata": {
            "tags": []
          },
          "execution_count": 12
        },
        {
          "output_type": "display_data",
          "data": {
            "image/png": "[encoded data removed]",
            "text/plain": [
              "<Figure size 576x396 with 1 Axes>"
            ]
          },
          "metadata": {
            "tags": []
          }
        }
      ]
    },
    {
      "metadata": {
        "id": "994DSmgR8Pw0",
        "colab_type": "code",
        "outputId": "763b7bdd-a9a3-478c-9fbc-a1d3e118f167",
        "colab": {
          "base_uri": "https://localhost:8080/",
          "height": 380
        }
      },
      "cell_type": "code",
      "source": [
        "np1_c[np1_c.Turma==\"EB3Q33\"]['NP1'].plot(kind='hist', title=\"3Q\",xlim=(0,10),bins=[0,1,2,3,4,5,6,7,8,9,10])"
      ],
      "execution_count": 13,
      "outputs": [
        {
          "output_type": "execute_result",
          "data": {
            "text/plain": [
              "<matplotlib.axes._subplots.AxesSubplot at 0x7f4b81539470>"
            ]
          },
          "metadata": {
            "tags": []
          },
          "execution_count": 13
        },
        {
          "output_type": "display_data",
          "data": {
            "image/png": "[encoded data removed]",
            "text/plain": [
              "<Figure size 576x396 with 1 Axes>"
            ]
          },
          "metadata": {
            "tags": []
          }
        }
      ]
    },
    {
      "metadata": {
        "id": "0GMyyRUR8PxC",
        "colab_type": "code",
        "outputId": "585ed365-529a-40e8-a70e-1f313ccc4c8e",
        "colab": {
          "base_uri": "https://localhost:8080/",
          "height": 380
        }
      },
      "cell_type": "code",
      "source": [
        "np1_c[np1_c.Turma==\"EB3R33\"]['NP1'].plot(kind='hist', title=\"3R\",xlim=(0,10),bins=[0,1,2,3,4,5,6,7,8,9,10])"
      ],
      "execution_count": 14,
      "outputs": [
        {
          "output_type": "execute_result",
          "data": {
            "text/plain": [
              "<matplotlib.axes._subplots.AxesSubplot at 0x7f4b814853c8>"
            ]
          },
          "metadata": {
            "tags": []
          },
          "execution_count": 14
        },
        {
          "output_type": "display_data",
          "data": {
            "image/png": "[encoded data removed]",
            "text/plain": [
              "<Figure size 576x396 with 1 Axes>"
            ]
          },
          "metadata": {
            "tags": []
          }
        }
      ]
    },
    {
      "metadata": {
        "id": "_oPLicHQ8PxJ",
        "colab_type": "text"
      },
      "cell_type": "markdown",
      "source": [
        "Para a turma 4R temos um histograma mais largo, evidenciando uma variedade de notas. O pico tem seu máximo em notas entre 4 e 5."
      ]
    },
    {
      "metadata": {
        "id": "S1wTCNS38PxL",
        "colab_type": "code",
        "outputId": "5e91d06f-c5c5-4ad4-fbab-d98c098910ff",
        "colab": {
          "base_uri": "https://localhost:8080/",
          "height": 380
        }
      },
      "cell_type": "code",
      "source": [
        "np1_c[np1_c.Turma==\"EB3S33\"]['NP1'].plot(kind='hist', title=\"3S\",xlim=(0,10),bins=[0,1,2,3,4,5,6,7,8,9,10])"
      ],
      "execution_count": 15,
      "outputs": [
        {
          "output_type": "execute_result",
          "data": {
            "text/plain": [
              "<matplotlib.axes._subplots.AxesSubplot at 0x7f4b8145e8d0>"
            ]
          },
          "metadata": {
            "tags": []
          },
          "execution_count": 15
        },
        {
          "output_type": "display_data",
          "data": {
            "image/png": "[encoded data removed]",
            "text/plain": [
              "<Figure size 576x396 with 1 Axes>"
            ]
          },
          "metadata": {
            "tags": []
          }
        }
      ]
    },
    {
      "metadata": {
        "id": "ykP_4Y8h8PxZ",
        "colab_type": "code",
        "outputId": "732025fe-8ac9-4a6a-9230-655dde586b40",
        "colab": {
          "base_uri": "https://localhost:8080/",
          "height": 380
        }
      },
      "cell_type": "code",
      "source": [
        "np1_c[np1_c.Turma==\"EB3T33\"]['NP1'].plot(kind='hist', title=\"3T\",xlim=(0,10), bins=[0,1,2,3,4,5,6,7,8,9,10])"
      ],
      "execution_count": 16,
      "outputs": [
        {
          "output_type": "execute_result",
          "data": {
            "text/plain": [
              "<matplotlib.axes._subplots.AxesSubplot at 0x7f4b813d9c88>"
            ]
          },
          "metadata": {
            "tags": []
          },
          "execution_count": 16
        },
        {
          "output_type": "display_data",
          "data": {
            "image/png": "[encoded data removed]",
            "text/plain": [
              "<Figure size 576x396 with 1 Axes>"
            ]
          },
          "metadata": {
            "tags": []
          }
        }
      ]
    },
    {
      "metadata": {
        "id": "zXVUBzb-8Pxj",
        "colab_type": "code",
        "outputId": "55f32cc1-9458-4d5c-c839-a3124be91f1b",
        "colab": {
          "base_uri": "https://localhost:8080/",
          "height": 380
        }
      },
      "cell_type": "code",
      "source": [
        "np1_c[np1_c.Turma==\"EB3U33\"]['NP1'].plot(kind='hist', title=\"3U\",xlim=(0,10),bins=[0,1,2,3,4,5,6,7,8,9,10])"
      ],
      "execution_count": 17,
      "outputs": [
        {
          "output_type": "execute_result",
          "data": {
            "text/plain": [
              "<matplotlib.axes._subplots.AxesSubplot at 0x7f4b8134bcc0>"
            ]
          },
          "metadata": {
            "tags": []
          },
          "execution_count": 17
        },
        {
          "output_type": "display_data",
          "data": {
            "image/png": "[encoded data removed]",
            "text/plain": [
              "<Figure size 576x396 with 1 Axes>"
            ]
          },
          "metadata": {
            "tags": []
          }
        }
      ]
    },
    {
      "metadata": {
        "id": "37YoZpZx-bXP",
        "colab_type": "code",
        "colab": {
          "base_uri": "https://localhost:8080/",
          "height": 380
        },
        "outputId": "a6d3c31a-3a42-46f9-d10e-483183f04976"
      },
      "cell_type": "code",
      "source": [
        "np1_c[np1_c.Turma==\"EB2P33\"]['NP1'].plot(kind='hist', title=\"2P\",xlim=(0,10),bins=[0,1,2,3,4,5,6,7,8,9,10])"
      ],
      "execution_count": 18,
      "outputs": [
        {
          "output_type": "execute_result",
          "data": {
            "text/plain": [
              "<matplotlib.axes._subplots.AxesSubplot at 0x7f4b8134b198>"
            ]
          },
          "metadata": {
            "tags": []
          },
          "execution_count": 18
        },
        {
          "output_type": "display_data",
          "data": {
            "image/png": "[encoded data removed]",
            "text/plain": [
              "<Figure size 576x396 with 1 Axes>"
            ]
          },
          "metadata": {
            "tags": []
          }
        }
      ]
    },
    {
      "metadata": {
        "id": "rBDLGn1U-bPf",
        "colab_type": "code",
        "colab": {
          "base_uri": "https://localhost:8080/",
          "height": 380
        },
        "outputId": "1bfa2a17-1188-4307-abab-daf8f273c3c6"
      },
      "cell_type": "code",
      "source": [
        "np1_c[np1_c.Turma==\"EB2Q33\"]['NP1'].plot(kind='hist', title=\"2Q\",xlim=(0,10),bins=[0,1,2,3,4,5,6,7,8,9,10])"
      ],
      "execution_count": 19,
      "outputs": [
        {
          "output_type": "execute_result",
          "data": {
            "text/plain": [
              "<matplotlib.axes._subplots.AxesSubplot at 0x7f4b8127b550>"
            ]
          },
          "metadata": {
            "tags": []
          },
          "execution_count": 19
        },
        {
          "output_type": "display_data",
          "data": {
            "image/png": "[encoded data removed]",
            "text/plain": [
              "<Figure size 576x396 with 1 Axes>"
            ]
          },
          "metadata": {
            "tags": []
          }
        }
      ]
    },
    {
      "metadata": {
        "id": "xg8kYPTm-bGH",
        "colab_type": "code",
        "colab": {
          "base_uri": "https://localhost:8080/",
          "height": 380
        },
        "outputId": "4c397190-ffa9-4e3a-93f2-f34b86b69390"
      },
      "cell_type": "code",
      "source": [
        "np1_c[np1_c.Turma==\"EB2R33\"]['NP1'].plot(kind='hist', title=\"2R\",xlim=(0,10),bins=[0,1,2,3,4,5,6,7,8,9,10])"
      ],
      "execution_count": 20,
      "outputs": [
        {
          "output_type": "execute_result",
          "data": {
            "text/plain": [
              "<matplotlib.axes._subplots.AxesSubplot at 0x7f4b811fb160>"
            ]
          },
          "metadata": {
            "tags": []
          },
          "execution_count": 20
        },
        {
          "output_type": "display_data",
          "data": {
            "image/png": "[encoded data removed]",
            "text/plain": [
              "<Figure size 576x396 with 1 Axes>"
            ]
          },
          "metadata": {
            "tags": []
          }
        }
      ]
    },
    {
      "metadata": {
        "id": "A3qTyu0F-as5",
        "colab_type": "code",
        "colab": {
          "base_uri": "https://localhost:8080/",
          "height": 380
        },
        "outputId": "67e16e78-348c-489f-cf8c-809458e228c2"
      },
      "cell_type": "code",
      "source": [
        "np1_c[np1_c.Turma==\"EB2S33\"]['NP1'].plot(kind='hist', title=\"2S\",xlim=(0,10),bins=[0,1,2,3,4,5,6,7,8,9,10])"
      ],
      "execution_count": 21,
      "outputs": [
        {
          "output_type": "execute_result",
          "data": {
            "text/plain": [
              "<matplotlib.axes._subplots.AxesSubplot at 0x7f4b81215f98>"
            ]
          },
          "metadata": {
            "tags": []
          },
          "execution_count": 21
        },
        {
          "output_type": "display_data",
          "data": {
            "image/png": "[encoded data removed]",
            "text/plain": [
              "<Figure size 576x396 with 1 Axes>"
            ]
          },
          "metadata": {
            "tags": []
          }
        }
      ]
    },
    {
      "metadata": {
        "id": "7BIqTgFY-qYp",
        "colab_type": "code",
        "colab": {
          "base_uri": "https://localhost:8080/",
          "height": 380
        },
        "outputId": "d0791a26-64b4-4cc0-ea91-0eca869cb56a"
      },
      "cell_type": "code",
      "source": [
        "np1_c[np1_c.Turma==\"EB2T33\"]['NP1'].plot(kind='hist', title=\"2T\",xlim=(0,10),bins=[0,1,2,3,4,5,6,7,8,9,10])"
      ],
      "execution_count": 22,
      "outputs": [
        {
          "output_type": "execute_result",
          "data": {
            "text/plain": [
              "<matplotlib.axes._subplots.AxesSubplot at 0x7f4b8116e198>"
            ]
          },
          "metadata": {
            "tags": []
          },
          "execution_count": 22
        },
        {
          "output_type": "display_data",
          "data": {
            "image/png": "[encoded data removed]",
            "text/plain": [
              "<Figure size 576x396 with 1 Axes>"
            ]
          },
          "metadata": {
            "tags": []
          }
        }
      ]
    },
    {
      "metadata": {
        "id": "5wZHe9k-8Pxp",
        "colab_type": "code",
        "outputId": "83d5461b-d688-47e6-e3da-afb14af7c1d5",
        "colab": {
          "base_uri": "https://localhost:8080/",
          "height": 950
        }
      },
      "cell_type": "code",
      "source": [
        "np1_c.hist(column='NP1', by=\"Turma\", figsize=(12,12), bins=[0,1,2,3,4,5,6,7,8,9,10], xrot=1)"
      ],
      "execution_count": 23,
      "outputs": [
        {
          "output_type": "execute_result",
          "data": {
            "text/plain": [
              "array([[<matplotlib.axes._subplots.AxesSubplot object at 0x7f4b810dd978>,\n",
              "        <matplotlib.axes._subplots.AxesSubplot object at 0x7f4b81081fd0>,\n",
              "        <matplotlib.axes._subplots.AxesSubplot object at 0x7f4b810ad978>],\n",
              "       [<matplotlib.axes._subplots.AxesSubplot object at 0x7f4b8105c320>,\n",
              "        <matplotlib.axes._subplots.AxesSubplot object at 0x7f4b81001c88>,\n",
              "        <matplotlib.axes._subplots.AxesSubplot object at 0x7f4b8102e630>],\n",
              "       [<matplotlib.axes._subplots.AxesSubplot object at 0x7f4b80fd8f98>,\n",
              "        <matplotlib.axes._subplots.AxesSubplot object at 0x7f4b80f84978>,\n",
              "        <matplotlib.axes._subplots.AxesSubplot object at 0x7f4b80f849b0>],\n",
              "       [<matplotlib.axes._subplots.AxesSubplot object at 0x7f4b80f57c50>,\n",
              "        <matplotlib.axes._subplots.AxesSubplot object at 0x7f4b80f055f8>,\n",
              "        <matplotlib.axes._subplots.AxesSubplot object at 0x7f4b80f2df60>]],\n",
              "      dtype=object)"
            ]
          },
          "metadata": {
            "tags": []
          },
          "execution_count": 23
        },
        {
          "output_type": "display_data",
          "data": {
            "image/png": "[encoded data removed]",
            "text/plain": [
              "<Figure size 864x864 with 12 Axes>"
            ]
          },
          "metadata": {
            "tags": []
          }
        }
      ]
    },
    {
      "metadata": {
        "id": "xvUYXl4A8Pxy",
        "colab_type": "text"
      },
      "cell_type": "markdown",
      "source": [
        "## Plotando histogramas por sala"
      ]
    },
    {
      "metadata": {
        "id": "Zci-l9jS8Pxz",
        "colab_type": "code",
        "outputId": "a000e0ad-414f-468b-d17b-cbb3a1a8dee5",
        "colab": {}
      },
      "cell_type": "code",
      "source": [
        "np1_a1=np1_c[np1_c.Turma==\"4P\"]\n",
        "np1_a2=np1_c[np1_c.Turma==\"4Q\"]\n",
        "np1_a3=np1_c[np1_c.Turma==\"3P\"]\n",
        "sala312=[np1_a1,np1_a2,np1_a3]\n",
        "sala312=pd.concat(sala312)\n",
        "\n",
        "sala312['NP1'].plot(kind='hist', title=\"sala 312 - 4P, 4Q, 3P\",xlim=(0,10), bins=[0,1,2,3,4,5,6,7,8,9,10])"
      ],
      "execution_count": 0,
      "outputs": [
        {
          "output_type": "execute_result",
          "data": {
            "text/plain": [
              "<matplotlib.axes._subplots.AxesSubplot at 0x7fa82e2cb898>"
            ]
          },
          "metadata": {
            "tags": []
          },
          "execution_count": 21
        },
        {
          "output_type": "display_data",
          "data": {
            "image/png": "[encoded data removed]",
            "text/plain": [
              "<Figure size 432x288 with 1 Axes>"
            ]
          },
          "metadata": {
            "tags": []
          }
        }
      ]
    },
    {
      "metadata": {
        "id": "95PI1gtY8Px3",
        "colab_type": "code",
        "outputId": "d7c56881-a878-466b-99da-9285f9fe5675",
        "colab": {}
      },
      "cell_type": "code",
      "source": [
        "np1_a1=np1_c[np1_c.Turma==\"4R\"]\n",
        "np1_a2=np1_c[np1_c.Turma==\"4S\"]\n",
        "np1_a3=np1_c[np1_c.Turma==\"3Q\"]\n",
        "sala316=[np1_a1,np1_a2,np1_a3]\n",
        "sala316=pd.concat(sala316)\n",
        "\n",
        "sala316['NP1'].plot(kind='hist', title=\"sala 316 - 4R, 4S, 3Q\",xlim=(0,10), bins=[0,1,2,3,4,5,6,7,8,9,10])"
      ],
      "execution_count": 0,
      "outputs": [
        {
          "output_type": "execute_result",
          "data": {
            "text/plain": [
              "<matplotlib.axes._subplots.AxesSubplot at 0x7fa82e2844e0>"
            ]
          },
          "metadata": {
            "tags": []
          },
          "execution_count": 22
        },
        {
          "output_type": "display_data",
          "data": {
            "image/png": "[encoded data removed]",
            "text/plain": [
              "<Figure size 432x288 with 1 Axes>"
            ]
          },
          "metadata": {
            "tags": []
          }
        }
      ]
    },
    {
      "metadata": {
        "id": "gHLSFmVE8Px8",
        "colab_type": "text"
      },
      "cell_type": "markdown",
      "source": [
        "## Média por sala"
      ]
    },
    {
      "metadata": {
        "id": "RXhfrRcR8Px9",
        "colab_type": "code",
        "outputId": "007fc116-956b-4cd4-e57c-775a944fd846",
        "colab": {}
      },
      "cell_type": "code",
      "source": [
        "print(\"sala 312:\", round(sala312.NP1.mean(),2), \"+-\", round(sala312.NP1.std()/(sala312.NP1.count())**(1./2),2))\n",
        "print(\"sala 316:\", round(sala316.NP1.mean(),2), \"+-\", round(sala316.NP1.std()/(sala316.NP1.count())**(1./2),2))\n",
        "\n"
      ],
      "execution_count": 0,
      "outputs": [
        {
          "output_type": "stream",
          "text": [
            "sala 312: 5.43 +- 0.28\n",
            "sala 316: 5.48 +- 0.26\n"
          ],
          "name": "stdout"
        }
      ]
    },
    {
      "metadata": {
        "id": "m_59sBte8PyD",
        "colab_type": "text"
      },
      "cell_type": "markdown",
      "source": [
        "## Desvio padrão por sala"
      ]
    },
    {
      "metadata": {
        "id": "NvVD164a8PyE",
        "colab_type": "code",
        "outputId": "1f1bcc4b-f28a-4355-a05b-73819c5c3a34",
        "colab": {}
      },
      "cell_type": "code",
      "source": [
        "print(\"sala 312:\", round(sala312.NP1.std(),2))\n",
        "print(\"sala 316:\", round(sala316.NP1.std(),2))"
      ],
      "execution_count": 0,
      "outputs": [
        {
          "output_type": "stream",
          "text": [
            "sala 312: 2.3\n",
            "sala 316: 2.08\n"
          ],
          "name": "stdout"
        }
      ]
    },
    {
      "metadata": {
        "id": "dT1qMjCH8PyI",
        "colab_type": "text"
      },
      "cell_type": "markdown",
      "source": [
        "## Conclusões\n",
        "\n",
        "A prova se mostrou eficiente no papel avaliativo a que se prestava, de forma que as notas dos alunos se localizaram  com média em 5,46(19). Não houve uma diferença significativa das notas médias comparando-se turma a turma. As médias e dispersão de notas por sala se mostraram equivalentes.\n",
        "\n",
        "\n",
        "Analisando os histogramas podemos concluir que as diferentes turmas apresentam desempenho distinto nas provas, enquanto a turma 4R, por exemplo, apresenta um comportamento onde a maior parte dos alunos obteve nota próxima da média, enquanto em outras turmas, como na 3P, há evidentemente dois desempenhos distintos na prova."
      ]
    }
  ]
}